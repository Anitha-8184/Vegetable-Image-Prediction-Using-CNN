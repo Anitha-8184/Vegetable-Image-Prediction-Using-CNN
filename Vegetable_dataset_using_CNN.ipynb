{
  "nbformat": 4,
  "nbformat_minor": 0,
  "metadata": {
    "colab": {
      "provenance": []
    },
    "kernelspec": {
      "name": "python3",
      "display_name": "Python 3"
    },
    "language_info": {
      "name": "python"
    },
    "accelerator": "GPU",
    "gpuClass": "standard"
  },
  "cells": [
    {
      "cell_type": "code",
      "execution_count": null,
      "metadata": {
        "colab": {
          "base_uri": "https://localhost:8080/"
        },
        "id": "V7JXI06gHa-q",
        "outputId": "a1d07c30-fdbe-4938-8e7b-18b0e647594a"
      },
      "outputs": [
        {
          "output_type": "stream",
          "name": "stdout",
          "text": [
            "Data extracted\n"
          ]
        }
      ],
      "source": [
        "from zipfile import ZipFile\n",
        "# from PIL import Image\n",
        "path = \"/content/drive/MyDrive/python(g-18)/project dataset.zip\"\n",
        "\n",
        "with ZipFile(path) as f:\n",
        "  f.extractall(\"./data\")\n",
        "  print(\"Data extracted\")"
      ]
    },
    {
      "cell_type": "code",
      "source": [
        "import tensorflow as tf\n",
        "from tensorflow.keras import layers\n",
        "from PIL import Image"
      ],
      "metadata": {
        "id": "bmlistbLH47O"
      },
      "execution_count": null,
      "outputs": []
    },
    {
      "cell_type": "code",
      "source": [
        "img = Image.open(\"/content/data/Vegetable Images/test/Potato/1001.jpg\")\n",
        "img.size"
      ],
      "metadata": {
        "colab": {
          "base_uri": "https://localhost:8080/"
        },
        "id": "Y0u7hEo0I970",
        "outputId": "e855057a-5e60-40ea-d81b-e5c1cc908fb1"
      },
      "execution_count": null,
      "outputs": [
        {
          "output_type": "execute_result",
          "data": {
            "text/plain": [
              "(224, 224)"
            ]
          },
          "metadata": {},
          "execution_count": 20
        }
      ]
    },
    {
      "cell_type": "code",
      "source": [
        "data = tf.keras.utils.image_dataset_from_directory(\n",
        "    \"/content/data/Vegetable Images/train\",\n",
        "    image_size = (32,32),\n",
        "    color_mode=\"rgb\",\n",
        "    batch_size = 15000\n",
        ")"
      ],
      "metadata": {
        "colab": {
          "base_uri": "https://localhost:8080/"
        },
        "id": "syWNjP14IiMq",
        "outputId": "dcbdcf43-3f30-4c43-beb6-1d4c579bfa60"
      },
      "execution_count": null,
      "outputs": [
        {
          "output_type": "stream",
          "name": "stdout",
          "text": [
            "Found 15000 files belonging to 15 classes.\n"
          ]
        }
      ]
    },
    {
      "cell_type": "code",
      "source": [
        "model=tf.keras.Sequential([\n",
        "    layers.Conv2D(9,5,padding=\"same\", activation=\"leaky_relu\", input_shape=(32,32,3)),\n",
        "    layers.MaxPool2D(),\n",
        "    layers.Conv2D(18,3,padding=\"same\", activation=\"leaky_relu\"),\n",
        "    layers.MaxPool2D(),\n",
        "    layers.Conv2D(27,3,padding=\"same\", activation=\"leaky_relu\"),\n",
        "    layers.MaxPool2D(),\n",
        "    layers.Conv2D(27,3,padding=\"same\", activation=\"relu\"),\n",
        "    layers.MaxPool2D(),\n",
        "    layers.Flatten(),\n",
        "    layers.Dense(10,activation=\"relu\"),\n",
        "    layers.Softmax()\n",
        "])"
      ],
      "metadata": {
        "id": "mfElNM7CJtxa"
      },
      "execution_count": null,
      "outputs": []
    },
    {
      "cell_type": "code",
      "source": [
        "model.summary()"
      ],
      "metadata": {
        "colab": {
          "base_uri": "https://localhost:8080/"
        },
        "id": "H9HjVfOiJ7Kn",
        "outputId": "2f2dca1c-c2e3-4521-d60c-d9b22c1aafb8"
      },
      "execution_count": null,
      "outputs": [
        {
          "output_type": "stream",
          "name": "stdout",
          "text": [
            "Model: \"sequential_3\"\n",
            "_________________________________________________________________\n",
            " Layer (type)                Output Shape              Param #   \n",
            "=================================================================\n",
            " conv2d_12 (Conv2D)          (None, 32, 32, 9)         684       \n",
            "                                                                 \n",
            " max_pooling2d_12 (MaxPoolin  (None, 16, 16, 9)        0         \n",
            " g2D)                                                            \n",
            "                                                                 \n",
            " conv2d_13 (Conv2D)          (None, 16, 16, 18)        1476      \n",
            "                                                                 \n",
            " max_pooling2d_13 (MaxPoolin  (None, 8, 8, 18)         0         \n",
            " g2D)                                                            \n",
            "                                                                 \n",
            " conv2d_14 (Conv2D)          (None, 8, 8, 27)          4401      \n",
            "                                                                 \n",
            " max_pooling2d_14 (MaxPoolin  (None, 4, 4, 27)         0         \n",
            " g2D)                                                            \n",
            "                                                                 \n",
            " conv2d_15 (Conv2D)          (None, 4, 4, 27)          6588      \n",
            "                                                                 \n",
            " max_pooling2d_15 (MaxPoolin  (None, 2, 2, 27)         0         \n",
            " g2D)                                                            \n",
            "                                                                 \n",
            " flatten_3 (Flatten)         (None, 108)               0         \n",
            "                                                                 \n",
            " dense_3 (Dense)             (None, 10)                1090      \n",
            "                                                                 \n",
            " softmax_3 (Softmax)         (None, 10)                0         \n",
            "                                                                 \n",
            "=================================================================\n",
            "Total params: 14,239\n",
            "Trainable params: 14,239\n",
            "Non-trainable params: 0\n",
            "_________________________________________________________________\n"
          ]
        }
      ]
    },
    {
      "cell_type": "code",
      "source": [
        "model.compile(\n",
        "    loss = tf.keras.losses.categorical_crossentropy,\n",
        "    optimizer = tf.keras.optimizers.Adam(),\n",
        "    metrics = [\"Accuracy\"]\n",
        ")"
      ],
      "metadata": {
        "id": "Dq4fMrYxJ-2V"
      },
      "execution_count": null,
      "outputs": []
    },
    {
      "cell_type": "code",
      "source": [
        "for features,labels in data:\n",
        "    features=tf.divide(features,255)\n",
        "    labels=tf.one_hot(labels,10)\n",
        "    record=model.fit(features,labels,batch_size=15,epochs=100)"
      ],
      "metadata": {
        "colab": {
          "base_uri": "https://localhost:8080/"
        },
        "id": "2-m-7O0xTpVM",
        "outputId": "c06f0930-6473-41ca-bc5a-f7ccda2697b7"
      },
      "execution_count": null,
      "outputs": [
        {
          "output_type": "stream",
          "name": "stdout",
          "text": [
            "Epoch 1/100\n",
            "1000/1000 [==============================] - 5s 4ms/step - loss: 1.3425 - Accuracy: 0.3478\n",
            "Epoch 2/100\n",
            "1000/1000 [==============================] - 4s 4ms/step - loss: 1.1895 - Accuracy: 0.4887\n",
            "Epoch 3/100\n",
            "1000/1000 [==============================] - 5s 5ms/step - loss: 1.1140 - Accuracy: 0.5421\n",
            "Epoch 4/100\n",
            "1000/1000 [==============================] - 4s 4ms/step - loss: 1.0422 - Accuracy: 0.5770\n",
            "Epoch 5/100\n",
            "1000/1000 [==============================] - 4s 4ms/step - loss: 0.9974 - Accuracy: 0.6069\n",
            "Epoch 6/100\n",
            "1000/1000 [==============================] - 4s 4ms/step - loss: 0.9568 - Accuracy: 0.6264\n",
            "Epoch 7/100\n",
            "1000/1000 [==============================] - 4s 4ms/step - loss: 0.9415 - Accuracy: 0.6369\n",
            "Epoch 8/100\n",
            "1000/1000 [==============================] - 5s 5ms/step - loss: 0.9178 - Accuracy: 0.6491\n",
            "Epoch 9/100\n",
            "1000/1000 [==============================] - 4s 4ms/step - loss: 0.9048 - Accuracy: 0.6554\n",
            "Epoch 10/100\n",
            "1000/1000 [==============================] - 4s 4ms/step - loss: 0.8869 - Accuracy: 0.6629\n",
            "Epoch 11/100\n",
            "1000/1000 [==============================] - 4s 4ms/step - loss: 0.8758 - Accuracy: 0.6670\n",
            "Epoch 12/100\n",
            "1000/1000 [==============================] - 4s 4ms/step - loss: 0.8590 - Accuracy: 0.6734\n",
            "Epoch 13/100\n",
            "1000/1000 [==============================] - 4s 4ms/step - loss: 0.8476 - Accuracy: 0.6829\n",
            "Epoch 14/100\n",
            "1000/1000 [==============================] - 4s 4ms/step - loss: 0.8463 - Accuracy: 0.6859\n",
            "Epoch 15/100\n",
            "1000/1000 [==============================] - 4s 4ms/step - loss: 0.8355 - Accuracy: 0.6904\n",
            "Epoch 16/100\n",
            "1000/1000 [==============================] - 4s 4ms/step - loss: 0.8391 - Accuracy: 0.6894\n",
            "Epoch 17/100\n",
            "1000/1000 [==============================] - 4s 4ms/step - loss: 0.8265 - Accuracy: 0.6966\n",
            "Epoch 18/100\n",
            "1000/1000 [==============================] - 4s 4ms/step - loss: 0.8318 - Accuracy: 0.6973\n",
            "Epoch 19/100\n",
            "1000/1000 [==============================] - 4s 4ms/step - loss: 0.8228 - Accuracy: 0.6987\n",
            "Epoch 20/100\n",
            "1000/1000 [==============================] - 4s 4ms/step - loss: 0.8101 - Accuracy: 0.7069\n",
            "Epoch 21/100\n",
            "1000/1000 [==============================] - 4s 4ms/step - loss: 0.8183 - Accuracy: 0.7029\n",
            "Epoch 22/100\n",
            "1000/1000 [==============================] - 4s 4ms/step - loss: 0.8194 - Accuracy: 0.7046\n",
            "Epoch 23/100\n",
            "1000/1000 [==============================] - 4s 4ms/step - loss: 0.8113 - Accuracy: 0.7089\n",
            "Epoch 24/100\n",
            "1000/1000 [==============================] - 4s 4ms/step - loss: 0.8138 - Accuracy: 0.7073\n",
            "Epoch 25/100\n",
            "1000/1000 [==============================] - 4s 4ms/step - loss: 0.8154 - Accuracy: 0.7085\n",
            "Epoch 26/100\n",
            "1000/1000 [==============================] - 4s 4ms/step - loss: 0.8069 - Accuracy: 0.7107\n",
            "Epoch 27/100\n",
            "1000/1000 [==============================] - 4s 4ms/step - loss: 0.8196 - Accuracy: 0.7081\n",
            "Epoch 28/100\n",
            "1000/1000 [==============================] - 4s 4ms/step - loss: 0.8009 - Accuracy: 0.7143\n",
            "Epoch 29/100\n",
            "1000/1000 [==============================] - 4s 4ms/step - loss: 0.8132 - Accuracy: 0.7091\n",
            "Epoch 30/100\n",
            "1000/1000 [==============================] - 4s 4ms/step - loss: 0.8015 - Accuracy: 0.7146\n",
            "Epoch 31/100\n",
            "1000/1000 [==============================] - 5s 5ms/step - loss: 0.8006 - Accuracy: 0.7155\n",
            "Epoch 32/100\n",
            "1000/1000 [==============================] - 4s 4ms/step - loss: 0.8075 - Accuracy: 0.7124\n",
            "Epoch 33/100\n",
            "1000/1000 [==============================] - 4s 4ms/step - loss: 0.7986 - Accuracy: 0.7153\n",
            "Epoch 34/100\n",
            "1000/1000 [==============================] - 4s 4ms/step - loss: 0.8061 - Accuracy: 0.7139\n",
            "Epoch 35/100\n",
            "1000/1000 [==============================] - 4s 4ms/step - loss: 0.8011 - Accuracy: 0.7150\n",
            "Epoch 36/100\n",
            "1000/1000 [==============================] - 4s 4ms/step - loss: 0.8042 - Accuracy: 0.7145\n",
            "Epoch 37/100\n",
            "1000/1000 [==============================] - 5s 5ms/step - loss: 0.8043 - Accuracy: 0.7143\n",
            "Epoch 38/100\n",
            "1000/1000 [==============================] - 4s 4ms/step - loss: 0.7997 - Accuracy: 0.7173\n",
            "Epoch 39/100\n",
            "1000/1000 [==============================] - 6s 6ms/step - loss: 0.8000 - Accuracy: 0.7169\n",
            "Epoch 40/100\n",
            "1000/1000 [==============================] - 4s 4ms/step - loss: 0.8009 - Accuracy: 0.7165\n",
            "Epoch 41/100\n",
            "1000/1000 [==============================] - 4s 4ms/step - loss: 0.8023 - Accuracy: 0.7175\n",
            "Epoch 42/100\n",
            "1000/1000 [==============================] - 4s 4ms/step - loss: 0.7965 - Accuracy: 0.7188\n",
            "Epoch 43/100\n",
            "1000/1000 [==============================] - 4s 4ms/step - loss: 0.7944 - Accuracy: 0.7198\n",
            "Epoch 44/100\n",
            "1000/1000 [==============================] - 4s 4ms/step - loss: 0.8037 - Accuracy: 0.7167\n",
            "Epoch 45/100\n",
            "1000/1000 [==============================] - 4s 4ms/step - loss: 0.8059 - Accuracy: 0.7142\n",
            "Epoch 46/100\n",
            "1000/1000 [==============================] - 4s 4ms/step - loss: 0.8043 - Accuracy: 0.7159\n",
            "Epoch 47/100\n",
            "1000/1000 [==============================] - 4s 4ms/step - loss: 0.7974 - Accuracy: 0.7188\n",
            "Epoch 48/100\n",
            "1000/1000 [==============================] - 4s 4ms/step - loss: 0.7929 - Accuracy: 0.7215\n",
            "Epoch 49/100\n",
            "1000/1000 [==============================] - 5s 5ms/step - loss: 0.8167 - Accuracy: 0.7130\n",
            "Epoch 50/100\n",
            "1000/1000 [==============================] - 4s 4ms/step - loss: 0.7921 - Accuracy: 0.7221\n",
            "Epoch 51/100\n",
            "1000/1000 [==============================] - 4s 4ms/step - loss: 0.7962 - Accuracy: 0.7198\n",
            "Epoch 52/100\n",
            "1000/1000 [==============================] - 4s 4ms/step - loss: 0.7974 - Accuracy: 0.7196\n",
            "Epoch 53/100\n",
            "1000/1000 [==============================] - 4s 4ms/step - loss: 0.8005 - Accuracy: 0.7188\n",
            "Epoch 54/100\n",
            "1000/1000 [==============================] - 4s 4ms/step - loss: 0.7949 - Accuracy: 0.7204\n",
            "Epoch 55/100\n",
            "1000/1000 [==============================] - 4s 4ms/step - loss: 0.7949 - Accuracy: 0.7204\n",
            "Epoch 56/100\n",
            "1000/1000 [==============================] - 4s 4ms/step - loss: 0.8007 - Accuracy: 0.7185\n",
            "Epoch 57/100\n",
            "1000/1000 [==============================] - 4s 4ms/step - loss: 0.8092 - Accuracy: 0.7157\n",
            "Epoch 58/100\n",
            "1000/1000 [==============================] - 4s 4ms/step - loss: 0.7984 - Accuracy: 0.7188\n",
            "Epoch 59/100\n",
            "1000/1000 [==============================] - 4s 4ms/step - loss: 0.7939 - Accuracy: 0.7207\n",
            "Epoch 60/100\n",
            "1000/1000 [==============================] - 4s 4ms/step - loss: 0.8015 - Accuracy: 0.7195\n",
            "Epoch 61/100\n",
            "1000/1000 [==============================] - 4s 4ms/step - loss: 0.7967 - Accuracy: 0.7201\n",
            "Epoch 62/100\n",
            "1000/1000 [==============================] - 4s 4ms/step - loss: 0.7991 - Accuracy: 0.7192\n",
            "Epoch 63/100\n",
            "1000/1000 [==============================] - 4s 4ms/step - loss: 0.8116 - Accuracy: 0.7148\n",
            "Epoch 64/100\n",
            "1000/1000 [==============================] - 4s 4ms/step - loss: 0.8011 - Accuracy: 0.7203\n",
            "Epoch 65/100\n",
            "1000/1000 [==============================] - 4s 4ms/step - loss: 0.7922 - Accuracy: 0.7219\n",
            "Epoch 66/100\n",
            "1000/1000 [==============================] - 4s 4ms/step - loss: 0.7976 - Accuracy: 0.7201\n",
            "Epoch 67/100\n",
            "1000/1000 [==============================] - 4s 4ms/step - loss: 0.7964 - Accuracy: 0.7205\n",
            "Epoch 68/100\n",
            "1000/1000 [==============================] - 4s 4ms/step - loss: 0.7981 - Accuracy: 0.7203\n",
            "Epoch 69/100\n",
            "1000/1000 [==============================] - 4s 4ms/step - loss: 0.7969 - Accuracy: 0.7207\n",
            "Epoch 70/100\n",
            "1000/1000 [==============================] - 4s 4ms/step - loss: 0.8081 - Accuracy: 0.7175\n",
            "Epoch 71/100\n",
            "1000/1000 [==============================] - 4s 4ms/step - loss: 0.8006 - Accuracy: 0.7186\n",
            "Epoch 72/100\n",
            "1000/1000 [==============================] - 4s 4ms/step - loss: 0.8007 - Accuracy: 0.7199\n",
            "Epoch 73/100\n",
            "1000/1000 [==============================] - 4s 4ms/step - loss: 0.8081 - Accuracy: 0.7161\n",
            "Epoch 74/100\n",
            "1000/1000 [==============================] - 4s 4ms/step - loss: 0.7968 - Accuracy: 0.7219\n",
            "Epoch 75/100\n",
            "1000/1000 [==============================] - 4s 4ms/step - loss: 0.7953 - Accuracy: 0.7217\n",
            "Epoch 76/100\n",
            "1000/1000 [==============================] - 4s 4ms/step - loss: 0.7902 - Accuracy: 0.7239\n",
            "Epoch 77/100\n",
            "1000/1000 [==============================] - 4s 4ms/step - loss: 0.8159 - Accuracy: 0.7151\n",
            "Epoch 78/100\n",
            "1000/1000 [==============================] - 4s 4ms/step - loss: 0.7901 - Accuracy: 0.7231\n",
            "Epoch 79/100\n",
            "1000/1000 [==============================] - 4s 4ms/step - loss: 0.8002 - Accuracy: 0.7206\n",
            "Epoch 80/100\n",
            "1000/1000 [==============================] - 4s 4ms/step - loss: 0.8031 - Accuracy: 0.7195\n",
            "Epoch 81/100\n",
            "1000/1000 [==============================] - 4s 4ms/step - loss: 0.7931 - Accuracy: 0.7216\n",
            "Epoch 82/100\n",
            "1000/1000 [==============================] - 4s 4ms/step - loss: 0.7953 - Accuracy: 0.7227\n",
            "Epoch 83/100\n",
            "1000/1000 [==============================] - 4s 4ms/step - loss: 0.8005 - Accuracy: 0.7193\n",
            "Epoch 84/100\n",
            "1000/1000 [==============================] - 4s 4ms/step - loss: 0.8006 - Accuracy: 0.7201\n",
            "Epoch 85/100\n",
            "1000/1000 [==============================] - 4s 4ms/step - loss: 0.7990 - Accuracy: 0.7210\n",
            "Epoch 86/100\n",
            "1000/1000 [==============================] - 4s 4ms/step - loss: 0.7973 - Accuracy: 0.7213\n",
            "Epoch 87/100\n",
            "1000/1000 [==============================] - 4s 4ms/step - loss: 0.7964 - Accuracy: 0.7218\n",
            "Epoch 88/100\n",
            "1000/1000 [==============================] - 4s 4ms/step - loss: 0.7952 - Accuracy: 0.7222\n",
            "Epoch 89/100\n",
            "1000/1000 [==============================] - 4s 4ms/step - loss: 0.8038 - Accuracy: 0.7201\n",
            "Epoch 90/100\n",
            "1000/1000 [==============================] - 4s 4ms/step - loss: 0.7957 - Accuracy: 0.7228\n",
            "Epoch 91/100\n",
            "1000/1000 [==============================] - 4s 4ms/step - loss: 0.8024 - Accuracy: 0.7191\n",
            "Epoch 92/100\n",
            "1000/1000 [==============================] - 4s 4ms/step - loss: 0.8015 - Accuracy: 0.7190\n",
            "Epoch 93/100\n",
            "1000/1000 [==============================] - 4s 4ms/step - loss: 0.7997 - Accuracy: 0.7205\n",
            "Epoch 94/100\n",
            "1000/1000 [==============================] - 4s 4ms/step - loss: 0.8117 - Accuracy: 0.7165\n",
            "Epoch 95/100\n",
            "1000/1000 [==============================] - 4s 4ms/step - loss: 0.7965 - Accuracy: 0.7225\n",
            "Epoch 96/100\n",
            "1000/1000 [==============================] - 4s 4ms/step - loss: 0.8250 - Accuracy: 0.7109\n",
            "Epoch 97/100\n",
            "1000/1000 [==============================] - 4s 4ms/step - loss: 0.7975 - Accuracy: 0.7225\n",
            "Epoch 98/100\n",
            "1000/1000 [==============================] - 4s 4ms/step - loss: 0.8100 - Accuracy: 0.7185\n",
            "Epoch 99/100\n",
            "1000/1000 [==============================] - 4s 4ms/step - loss: 0.7981 - Accuracy: 0.7221\n",
            "Epoch 100/100\n",
            "1000/1000 [==============================] - 5s 5ms/step - loss: 0.8008 - Accuracy: 0.7190\n"
          ]
        }
      ]
    },
    {
      "cell_type": "code",
      "source": [
        "model.save(\"/content/drive/MyDrive/python(g-18)/Vegetables.h5\")"
      ],
      "metadata": {
        "id": "76e8OHevcYSf"
      },
      "execution_count": null,
      "outputs": []
    }
  ]
}