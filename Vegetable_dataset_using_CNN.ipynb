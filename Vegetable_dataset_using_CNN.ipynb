{
  "nbformat": 4,
  "nbformat_minor": 0,
  "metadata": {
    "colab": {
      "provenance": []
    },
    "kernelspec": {
      "name": "python3",
      "display_name": "Python 3"
    },
    "language_info": {
      "name": "python"
    },
    "accelerator": "GPU",
    "gpuClass": "standard"
  },
  "cells": [
    {
      "cell_type": "code",
      "execution_count": 1,
      "metadata": {
        "colab": {
          "base_uri": "https://localhost:8080/"
        },
        "id": "V7JXI06gHa-q",
        "outputId": "c3ed5bf7-59c4-48de-9aa0-adbbf3ef4f33"
      },
      "outputs": [
        {
          "output_type": "stream",
          "name": "stdout",
          "text": [
            "Data extracted\n"
          ]
        }
      ],
      "source": [
        "from zipfile import ZipFile\n",
        "# from PIL import Image\n",
        "path = \"/content/drive/MyDrive/python(g-18)/project dataset.zip\"\n",
        "\n",
        "with ZipFile(path) as f:\n",
        "  f.extractall(\"./data\")\n",
        "  print(\"Data extracted\")"
      ]
    },
    {
      "cell_type": "code",
      "source": [
        "import tensorflow as tf\n",
        "from tensorflow.keras import layers\n",
        "from PIL import Image"
      ],
      "metadata": {
        "id": "bmlistbLH47O"
      },
      "execution_count": 2,
      "outputs": []
    },
    {
      "cell_type": "code",
      "source": [
        "from google.colab import drive\n",
        "drive.mount('/content/drive')"
      ],
      "metadata": {
        "colab": {
          "base_uri": "https://localhost:8080/"
        },
        "id": "SAvxdGNLyhlw",
        "outputId": "a5c1c47c-a8eb-43af-d79b-d07752d37976"
      },
      "execution_count": 3,
      "outputs": [
        {
          "output_type": "stream",
          "name": "stdout",
          "text": [
            "Drive already mounted at /content/drive; to attempt to forcibly remount, call drive.mount(\"/content/drive\", force_remount=True).\n"
          ]
        }
      ]
    },
    {
      "cell_type": "code",
      "source": [
        "img = Image.open(\"/content/data/Vegetable Images/test/Potato/1001.jpg\")\n",
        "img.size"
      ],
      "metadata": {
        "colab": {
          "base_uri": "https://localhost:8080/"
        },
        "id": "Y0u7hEo0I970",
        "outputId": "f6e2a371-c213-4f75-ac07-ad4bc20c2a93"
      },
      "execution_count": 4,
      "outputs": [
        {
          "output_type": "execute_result",
          "data": {
            "text/plain": [
              "(224, 224)"
            ]
          },
          "metadata": {},
          "execution_count": 4
        }
      ]
    },
    {
      "cell_type": "code",
      "source": [
        "data = tf.keras.utils.image_dataset_from_directory(\n",
        "    \"/content/data/Vegetable Images/train\",\n",
        "    image_size = (64,64),\n",
        "    color_mode=\"rgb\",\n",
        "    batch_size = 15000\n",
        ")"
      ],
      "metadata": {
        "colab": {
          "base_uri": "https://localhost:8080/"
        },
        "id": "syWNjP14IiMq",
        "outputId": "1cbf5f46-4b65-4877-9c77-77429c02079c"
      },
      "execution_count": 5,
      "outputs": [
        {
          "output_type": "stream",
          "name": "stdout",
          "text": [
            "Found 15000 files belonging to 15 classes.\n"
          ]
        }
      ]
    },
    {
      "cell_type": "code",
      "source": [
        "model=tf.keras.Sequential([\n",
        "    layers.Conv2D(9,5,padding=\"same\", activation=\"leaky_relu\", input_shape=(64,64,3)),\n",
        "    layers.MaxPool2D(),\n",
        "    layers.Conv2D(18,3,padding=\"same\", activation=\"leaky_relu\"),\n",
        "    layers.MaxPool2D(),\n",
        "    layers.Conv2D(27,3,padding=\"same\", activation=\"leaky_relu\"),\n",
        "    layers.MaxPool2D(),\n",
        "    layers.Conv2D(27,3,padding=\"same\", activation=\"relu\"),\n",
        "    layers.MaxPool2D(),\n",
        "    layers.Flatten(),\n",
        "    layers.Dense(300,activation=\"relu\"),\n",
        "    layers.Dense(15),\n",
        "    layers.Softmax()\n",
        "])"
      ],
      "metadata": {
        "id": "mfElNM7CJtxa"
      },
      "execution_count": 6,
      "outputs": []
    },
    {
      "cell_type": "code",
      "source": [
        "model.summary()"
      ],
      "metadata": {
        "colab": {
          "base_uri": "https://localhost:8080/"
        },
        "id": "H9HjVfOiJ7Kn",
        "outputId": "91c891fa-3d9d-45ab-bcc1-0b52b4176465"
      },
      "execution_count": 7,
      "outputs": [
        {
          "output_type": "stream",
          "name": "stdout",
          "text": [
            "Model: \"sequential\"\n",
            "_________________________________________________________________\n",
            " Layer (type)                Output Shape              Param #   \n",
            "=================================================================\n",
            " conv2d (Conv2D)             (None, 64, 64, 9)         684       \n",
            "                                                                 \n",
            " max_pooling2d (MaxPooling2D  (None, 32, 32, 9)        0         \n",
            " )                                                               \n",
            "                                                                 \n",
            " conv2d_1 (Conv2D)           (None, 32, 32, 18)        1476      \n",
            "                                                                 \n",
            " max_pooling2d_1 (MaxPooling  (None, 16, 16, 18)       0         \n",
            " 2D)                                                             \n",
            "                                                                 \n",
            " conv2d_2 (Conv2D)           (None, 16, 16, 27)        4401      \n",
            "                                                                 \n",
            " max_pooling2d_2 (MaxPooling  (None, 8, 8, 27)         0         \n",
            " 2D)                                                             \n",
            "                                                                 \n",
            " conv2d_3 (Conv2D)           (None, 8, 8, 27)          6588      \n",
            "                                                                 \n",
            " max_pooling2d_3 (MaxPooling  (None, 4, 4, 27)         0         \n",
            " 2D)                                                             \n",
            "                                                                 \n",
            " flatten (Flatten)           (None, 432)               0         \n",
            "                                                                 \n",
            " dense (Dense)               (None, 300)               129900    \n",
            "                                                                 \n",
            " dense_1 (Dense)             (None, 15)                4515      \n",
            "                                                                 \n",
            " softmax (Softmax)           (None, 15)                0         \n",
            "                                                                 \n",
            "=================================================================\n",
            "Total params: 147,564\n",
            "Trainable params: 147,564\n",
            "Non-trainable params: 0\n",
            "_________________________________________________________________\n"
          ]
        }
      ]
    },
    {
      "cell_type": "code",
      "source": [
        "model.compile(\n",
        "    loss = tf.keras.losses.categorical_crossentropy,\n",
        "    optimizer = tf.keras.optimizers.Adam(),\n",
        "    metrics = [\"Accuracy\"]\n",
        ")"
      ],
      "metadata": {
        "id": "Dq4fMrYxJ-2V"
      },
      "execution_count": 8,
      "outputs": []
    },
    {
      "cell_type": "code",
      "source": [
        "for features,labels in data:\n",
        "    features=tf.divide(features,255)\n",
        "    labels=tf.one_hot(labels,15)\n",
        "    record=model.fit(features,labels,batch_size=30,epochs=100)"
      ],
      "metadata": {
        "colab": {
          "base_uri": "https://localhost:8080/"
        },
        "id": "2-m-7O0xTpVM",
        "outputId": "cb543868-32cf-42f6-96de-793e552281f5"
      },
      "execution_count": 9,
      "outputs": [
        {
          "output_type": "stream",
          "name": "stdout",
          "text": [
            "Epoch 1/100\n",
            "500/500 [==============================] - 8s 5ms/step - loss: 1.4007 - Accuracy: 0.5232\n",
            "Epoch 2/100\n",
            "500/500 [==============================] - 2s 5ms/step - loss: 0.6263 - Accuracy: 0.7961\n",
            "Epoch 3/100\n",
            "500/500 [==============================] - 2s 5ms/step - loss: 0.3885 - Accuracy: 0.8755\n",
            "Epoch 4/100\n",
            "500/500 [==============================] - 3s 5ms/step - loss: 0.2643 - Accuracy: 0.9193\n",
            "Epoch 5/100\n",
            "500/500 [==============================] - 2s 5ms/step - loss: 0.1968 - Accuracy: 0.9376\n",
            "Epoch 6/100\n",
            "500/500 [==============================] - 2s 5ms/step - loss: 0.1440 - Accuracy: 0.9545\n",
            "Epoch 7/100\n",
            "500/500 [==============================] - 2s 5ms/step - loss: 0.1022 - Accuracy: 0.9676\n",
            "Epoch 8/100\n",
            "500/500 [==============================] - 2s 5ms/step - loss: 0.1084 - Accuracy: 0.9669\n",
            "Epoch 9/100\n",
            "500/500 [==============================] - 3s 6ms/step - loss: 0.0926 - Accuracy: 0.9719\n",
            "Epoch 10/100\n",
            "500/500 [==============================] - 3s 5ms/step - loss: 0.0672 - Accuracy: 0.9781\n",
            "Epoch 11/100\n",
            "500/500 [==============================] - 2s 5ms/step - loss: 0.0616 - Accuracy: 0.9797\n",
            "Epoch 12/100\n",
            "500/500 [==============================] - 2s 5ms/step - loss: 0.0626 - Accuracy: 0.9795\n",
            "Epoch 13/100\n",
            "500/500 [==============================] - 2s 5ms/step - loss: 0.0628 - Accuracy: 0.9811\n",
            "Epoch 14/100\n",
            "500/500 [==============================] - 2s 5ms/step - loss: 0.0407 - Accuracy: 0.9871\n",
            "Epoch 15/100\n",
            "500/500 [==============================] - 2s 5ms/step - loss: 0.0457 - Accuracy: 0.9853\n",
            "Epoch 16/100\n",
            "500/500 [==============================] - 3s 5ms/step - loss: 0.0447 - Accuracy: 0.9867\n",
            "Epoch 17/100\n",
            "500/500 [==============================] - 2s 5ms/step - loss: 0.0412 - Accuracy: 0.9879\n",
            "Epoch 18/100\n",
            "500/500 [==============================] - 2s 5ms/step - loss: 0.0593 - Accuracy: 0.9824\n",
            "Epoch 19/100\n",
            "500/500 [==============================] - 2s 5ms/step - loss: 0.0258 - Accuracy: 0.9918\n",
            "Epoch 20/100\n",
            "500/500 [==============================] - 2s 5ms/step - loss: 0.0416 - Accuracy: 0.9875\n",
            "Epoch 21/100\n",
            "500/500 [==============================] - 2s 5ms/step - loss: 0.0509 - Accuracy: 0.9852\n",
            "Epoch 22/100\n",
            "500/500 [==============================] - 2s 5ms/step - loss: 0.0096 - Accuracy: 0.9977\n",
            "Epoch 23/100\n",
            "500/500 [==============================] - 2s 5ms/step - loss: 0.0417 - Accuracy: 0.9865\n",
            "Epoch 24/100\n",
            "500/500 [==============================] - 2s 5ms/step - loss: 0.0324 - Accuracy: 0.9903\n",
            "Epoch 25/100\n",
            "500/500 [==============================] - 2s 5ms/step - loss: 0.0538 - Accuracy: 0.9852\n",
            "Epoch 26/100\n",
            "500/500 [==============================] - 2s 5ms/step - loss: 0.0139 - Accuracy: 0.9958\n",
            "Epoch 27/100\n",
            "500/500 [==============================] - 2s 5ms/step - loss: 0.0255 - Accuracy: 0.9929\n",
            "Epoch 28/100\n",
            "500/500 [==============================] - 2s 5ms/step - loss: 0.0188 - Accuracy: 0.9950\n",
            "Epoch 29/100\n",
            "500/500 [==============================] - 3s 5ms/step - loss: 0.0459 - Accuracy: 0.9874\n",
            "Epoch 30/100\n",
            "500/500 [==============================] - 2s 5ms/step - loss: 0.0240 - Accuracy: 0.9921\n",
            "Epoch 31/100\n",
            "500/500 [==============================] - 2s 5ms/step - loss: 0.0327 - Accuracy: 0.9905\n",
            "Epoch 32/100\n",
            "500/500 [==============================] - 2s 5ms/step - loss: 0.0251 - Accuracy: 0.9923\n",
            "Epoch 33/100\n",
            "500/500 [==============================] - 2s 5ms/step - loss: 0.0279 - Accuracy: 0.9916\n",
            "Epoch 34/100\n",
            "500/500 [==============================] - 2s 5ms/step - loss: 0.0416 - Accuracy: 0.9880\n",
            "Epoch 35/100\n",
            "500/500 [==============================] - 2s 5ms/step - loss: 0.0056 - Accuracy: 0.9977\n",
            "Epoch 36/100\n",
            "500/500 [==============================] - 2s 5ms/step - loss: 0.0241 - Accuracy: 0.9932\n",
            "Epoch 37/100\n",
            "500/500 [==============================] - 2s 5ms/step - loss: 0.0233 - Accuracy: 0.9937\n",
            "Epoch 38/100\n",
            "500/500 [==============================] - 2s 5ms/step - loss: 0.0333 - Accuracy: 0.9905\n",
            "Epoch 39/100\n",
            "500/500 [==============================] - 2s 5ms/step - loss: 0.0345 - Accuracy: 0.9905\n",
            "Epoch 40/100\n",
            "500/500 [==============================] - 2s 5ms/step - loss: 0.0120 - Accuracy: 0.9964\n",
            "Epoch 41/100\n",
            "500/500 [==============================] - 2s 5ms/step - loss: 0.0044 - Accuracy: 0.9987\n",
            "Epoch 42/100\n",
            "500/500 [==============================] - 2s 5ms/step - loss: 0.0305 - Accuracy: 0.9921\n",
            "Epoch 43/100\n",
            "500/500 [==============================] - 2s 5ms/step - loss: 0.0279 - Accuracy: 0.9919\n",
            "Epoch 44/100\n",
            "500/500 [==============================] - 2s 5ms/step - loss: 0.0301 - Accuracy: 0.9915\n",
            "Epoch 45/100\n",
            "500/500 [==============================] - 2s 5ms/step - loss: 0.0140 - Accuracy: 0.9965\n",
            "Epoch 46/100\n",
            "500/500 [==============================] - 2s 5ms/step - loss: 0.0012 - Accuracy: 0.9998\n",
            "Epoch 47/100\n",
            "500/500 [==============================] - 2s 5ms/step - loss: 1.2612e-04 - Accuracy: 1.0000\n",
            "Epoch 48/100\n",
            "500/500 [==============================] - 2s 5ms/step - loss: 4.2156e-05 - Accuracy: 1.0000\n",
            "Epoch 49/100\n",
            "500/500 [==============================] - 2s 5ms/step - loss: 2.5512e-05 - Accuracy: 1.0000\n",
            "Epoch 50/100\n",
            "500/500 [==============================] - 2s 5ms/step - loss: 1.9209e-05 - Accuracy: 1.0000\n",
            "Epoch 51/100\n",
            "500/500 [==============================] - 2s 5ms/step - loss: 1.4905e-05 - Accuracy: 1.0000\n",
            "Epoch 52/100\n",
            "500/500 [==============================] - 2s 5ms/step - loss: 1.1713e-05 - Accuracy: 1.0000\n",
            "Epoch 53/100\n",
            "500/500 [==============================] - 2s 5ms/step - loss: 9.2120e-06 - Accuracy: 1.0000\n",
            "Epoch 54/100\n",
            "500/500 [==============================] - 3s 5ms/step - loss: 7.3134e-06 - Accuracy: 1.0000\n",
            "Epoch 55/100\n",
            "500/500 [==============================] - 2s 5ms/step - loss: 5.8085e-06 - Accuracy: 1.0000\n",
            "Epoch 56/100\n",
            "500/500 [==============================] - 2s 5ms/step - loss: 4.5888e-06 - Accuracy: 1.0000\n",
            "Epoch 57/100\n",
            "500/500 [==============================] - 2s 5ms/step - loss: 3.6188e-06 - Accuracy: 1.0000\n",
            "Epoch 58/100\n",
            "500/500 [==============================] - 2s 5ms/step - loss: 2.8347e-06 - Accuracy: 1.0000\n",
            "Epoch 59/100\n",
            "500/500 [==============================] - 2s 5ms/step - loss: 2.2257e-06 - Accuracy: 1.0000\n",
            "Epoch 60/100\n",
            "500/500 [==============================] - 2s 5ms/step - loss: 1.7285e-06 - Accuracy: 1.0000\n",
            "Epoch 61/100\n",
            "500/500 [==============================] - 2s 5ms/step - loss: 1.3559e-06 - Accuracy: 1.0000\n",
            "Epoch 62/100\n",
            "500/500 [==============================] - 2s 5ms/step - loss: 1.0427e-06 - Accuracy: 1.0000\n",
            "Epoch 63/100\n",
            "500/500 [==============================] - 2s 5ms/step - loss: 8.1276e-07 - Accuracy: 1.0000\n",
            "Epoch 64/100\n",
            "500/500 [==============================] - 2s 5ms/step - loss: 6.2471e-07 - Accuracy: 1.0000\n",
            "Epoch 65/100\n",
            "500/500 [==============================] - 2s 5ms/step - loss: 4.8144e-07 - Accuracy: 1.0000\n",
            "Epoch 66/100\n",
            "500/500 [==============================] - 3s 5ms/step - loss: 3.7405e-07 - Accuracy: 1.0000\n",
            "Epoch 67/100\n",
            "500/500 [==============================] - 2s 5ms/step - loss: 2.8948e-07 - Accuracy: 1.0000\n",
            "Epoch 68/100\n",
            "500/500 [==============================] - 2s 5ms/step - loss: 2.2488e-07 - Accuracy: 1.0000\n",
            "Epoch 69/100\n",
            "500/500 [==============================] - 2s 5ms/step - loss: 1.7232e-07 - Accuracy: 1.0000\n",
            "Epoch 70/100\n",
            "500/500 [==============================] - 2s 5ms/step - loss: 1.3340e-07 - Accuracy: 1.0000\n",
            "Epoch 71/100\n",
            "500/500 [==============================] - 2s 5ms/step - loss: 1.0297e-07 - Accuracy: 1.0000\n",
            "Epoch 72/100\n",
            "500/500 [==============================] - 2s 5ms/step - loss: 7.9346e-08 - Accuracy: 1.0000\n",
            "Epoch 73/100\n",
            "500/500 [==============================] - 2s 5ms/step - loss: 6.1353e-08 - Accuracy: 1.0000\n",
            "Epoch 74/100\n",
            "500/500 [==============================] - 2s 5ms/step - loss: 4.7517e-08 - Accuracy: 1.0000\n",
            "Epoch 75/100\n",
            "500/500 [==============================] - 2s 5ms/step - loss: 3.6637e-08 - Accuracy: 1.0000\n",
            "Epoch 76/100\n",
            "500/500 [==============================] - 2s 5ms/step - loss: 2.8276e-08 - Accuracy: 1.0000\n",
            "Epoch 77/100\n",
            "500/500 [==============================] - 2s 5ms/step - loss: 2.1863e-08 - Accuracy: 1.0000\n",
            "Epoch 78/100\n",
            "500/500 [==============================] - 2s 5ms/step - loss: 1.6928e-08 - Accuracy: 1.0000\n",
            "Epoch 79/100\n",
            "500/500 [==============================] - 3s 5ms/step - loss: 1.3161e-08 - Accuracy: 1.0000\n",
            "Epoch 80/100\n",
            "500/500 [==============================] - 2s 5ms/step - loss: 1.0014e-08 - Accuracy: 1.0000\n",
            "Epoch 81/100\n",
            "500/500 [==============================] - 2s 5ms/step - loss: 7.9711e-09 - Accuracy: 1.0000\n",
            "Epoch 82/100\n",
            "500/500 [==============================] - 2s 5ms/step - loss: 6.1512e-09 - Accuracy: 1.0000\n",
            "Epoch 83/100\n",
            "500/500 [==============================] - 2s 5ms/step - loss: 4.8876e-09 - Accuracy: 1.0000\n",
            "Epoch 84/100\n",
            "500/500 [==============================] - 2s 5ms/step - loss: 3.7034e-09 - Accuracy: 1.0000\n",
            "Epoch 85/100\n",
            "500/500 [==============================] - 2s 5ms/step - loss: 2.7577e-09 - Accuracy: 1.0000\n",
            "Epoch 86/100\n",
            "500/500 [==============================] - 2s 5ms/step - loss: 2.3206e-09 - Accuracy: 1.0000\n",
            "Epoch 87/100\n",
            "500/500 [==============================] - 2s 5ms/step - loss: 1.7166e-09 - Accuracy: 1.0000\n",
            "Epoch 88/100\n",
            "500/500 [==============================] - 2s 5ms/step - loss: 1.3749e-09 - Accuracy: 1.0000\n",
            "Epoch 89/100\n",
            "500/500 [==============================] - 2s 5ms/step - loss: 1.1365e-09 - Accuracy: 1.0000\n",
            "Epoch 90/100\n",
            "500/500 [==============================] - 3s 5ms/step - loss: 8.4241e-10 - Accuracy: 1.0000\n",
            "Epoch 91/100\n",
            "500/500 [==============================] - 2s 5ms/step - loss: 7.7883e-10 - Accuracy: 1.0000\n",
            "Epoch 92/100\n",
            "500/500 [==============================] - 2s 5ms/step - loss: 1.0173e-09 - Accuracy: 1.0000\n",
            "Epoch 93/100\n",
            "500/500 [==============================] - 2s 5ms/step - loss: 7.6294e-10 - Accuracy: 1.0000\n",
            "Epoch 94/100\n",
            "500/500 [==============================] - 2s 5ms/step - loss: 4.2915e-10 - Accuracy: 1.0000\n",
            "Epoch 95/100\n",
            "500/500 [==============================] - 2s 5ms/step - loss: 4.0531e-10 - Accuracy: 1.0000\n",
            "Epoch 96/100\n",
            "500/500 [==============================] - 2s 5ms/step - loss: 3.8147e-10 - Accuracy: 1.0000\n",
            "Epoch 97/100\n",
            "500/500 [==============================] - 2s 5ms/step - loss: 3.1789e-10 - Accuracy: 1.0000\n",
            "Epoch 98/100\n",
            "500/500 [==============================] - 2s 5ms/step - loss: 3.1789e-10 - Accuracy: 1.0000\n",
            "Epoch 99/100\n",
            "500/500 [==============================] - 2s 5ms/step - loss: 0.1278 - Accuracy: 0.9789\n",
            "Epoch 100/100\n",
            "500/500 [==============================] - 2s 5ms/step - loss: 0.0315 - Accuracy: 0.9921\n"
          ]
        }
      ]
    },
    {
      "cell_type": "code",
      "source": [
        "model.save(\"/content/drive/MyDrive/python(g-18)/Vegetables.h5\")"
      ],
      "metadata": {
        "id": "76e8OHevcYSf"
      },
      "execution_count": 10,
      "outputs": []
    }
  ]
}